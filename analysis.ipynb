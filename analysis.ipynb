{
 "cells": [
  {
   "cell_type": "code",
   "execution_count": null,
   "id": "e603c799",
   "metadata": {},
   "outputs": [],
   "source": [
    "# analysis.ipynb\n",
    "import pandas as pd\n",
    "import matplotlib.pyplot as plt\n",
    "import seaborn as sns\n",
    "from wordcloud import WordCloud\n",
    "\n",
    "# Load dataset\n",
    "df = pd.read_csv(\"data/metadata.csv\")\n",
    "\n",
    "# Inspect\n",
    "print(df.shape)\n",
    "print(df.info())\n",
    "print(df.isnull().sum().head())\n",
    "\n",
    "# Clean: keep only important columns\n",
    "df = df[['title', 'abstract', 'publish_time', 'journal', 'source_x']]\n",
    "\n",
    "# Convert date\n",
    "df['publish_time'] = pd.to_datetime(df['publish_time'], errors='coerce')\n",
    "df['year'] = df['publish_time'].dt.year\n",
    "\n",
    "# Drop rows with missing title or date\n",
    "df = df.dropna(subset=['title', 'publish_time'])\n",
    "print(\"After cleaning:\", df.shape)\n",
    "\n",
    "# Add abstract word count\n",
    "df['abstract_wc'] = df['abstract'].fillna(\"\").apply(lambda x: len(x.split()))\n"
   ]
  },
  {
   "cell_type": "code",
   "execution_count": 2,
   "id": "f19c38de",
   "metadata": {},
   "outputs": [
    {
     "ename": "RuntimeError",
     "evalue": "Please run the cell that loads and processes the dataframe first.",
     "output_type": "error",
     "traceback": [
      "\u001b[1;31m---------------------------------------------------------------------------\u001b[0m",
      "\u001b[1;31mNameError\u001b[0m                                 Traceback (most recent call last)",
      "Cell \u001b[1;32mIn[2], line 3\u001b[0m\n\u001b[0;32m      2\u001b[0m \u001b[38;5;28;01mtry\u001b[39;00m:\n\u001b[1;32m----> 3\u001b[0m \tdf\n\u001b[0;32m      4\u001b[0m \u001b[38;5;28;01mexcept\u001b[39;00m \u001b[38;5;167;01mNameError\u001b[39;00m:\n",
      "\u001b[1;31mNameError\u001b[0m: name 'df' is not defined",
      "\nDuring handling of the above exception, another exception occurred:\n",
      "\u001b[1;31mRuntimeError\u001b[0m                              Traceback (most recent call last)",
      "Cell \u001b[1;32mIn[2], line 5\u001b[0m\n\u001b[0;32m      3\u001b[0m \tdf\n\u001b[0;32m      4\u001b[0m \u001b[38;5;28;01mexcept\u001b[39;00m \u001b[38;5;167;01mNameError\u001b[39;00m:\n\u001b[1;32m----> 5\u001b[0m \t\u001b[38;5;28;01mraise\u001b[39;00m \u001b[38;5;167;01mRuntimeError\u001b[39;00m(\u001b[38;5;124m\"\u001b[39m\u001b[38;5;124mPlease run the cell that loads and processes the dataframe first.\u001b[39m\u001b[38;5;124m\"\u001b[39m)\n\u001b[0;32m      7\u001b[0m \u001b[38;5;66;03m# Publications by year\u001b[39;00m\n\u001b[0;32m      8\u001b[0m year_counts \u001b[38;5;241m=\u001b[39m df[\u001b[38;5;124m'\u001b[39m\u001b[38;5;124myear\u001b[39m\u001b[38;5;124m'\u001b[39m]\u001b[38;5;241m.\u001b[39mvalue_counts()\u001b[38;5;241m.\u001b[39msort_index()\n",
      "\u001b[1;31mRuntimeError\u001b[0m: Please run the cell that loads and processes the dataframe first."
     ]
    }
   ],
   "source": [
    "# Ensure df is defined (run previous cell if not)\n",
    "try:\n",
    "\tdf\n",
    "except NameError:\n",
    "\traise RuntimeError(\"Please run the cell that loads and processes the dataframe first.\")\n",
    "\n",
    "# Publications by year\n",
    "year_counts = df['year'].value_counts().sort_index()\n",
    "plt.figure(figsize=(8,4))\n",
    "sns.barplot(x=year_counts.index, y=year_counts.values, color=\"skyblue\")\n",
    "plt.title(\"Publications by Year\")\n",
    "plt.savefig(\"images/pubs_by_year.png\")\n",
    "plt.show()\n",
    "\n",
    "# Top journals\n",
    "top_journals = df['journal'].value_counts().head(10)\n",
    "plt.figure(figsize=(8,4))\n",
    "sns.barplot(y=top_journals.index, x=top_journals.values, palette=\"viridis\")\n",
    "plt.title(\"Top 10 Journals\")\n",
    "plt.savefig(\"images/top_journals.png\")\n",
    "plt.show()\n",
    "\n",
    "# Word cloud of titles\n",
    "text = \" \".join(df['title'].dropna().tolist())\n",
    "wordcloud = WordCloud(width=800, height=400, background_color=\"white\").generate(text)\n",
    "plt.figure(figsize=(10,6))\n",
    "plt.imshow(wordcloud, interpolation=\"bilinear\")\n",
    "plt.axis(\"off\")\n",
    "plt.savefig(\"images/wordcloud.png\")\n",
    "plt.show()\n"
   ]
  },
  {
   "cell_type": "code",
   "execution_count": null,
   "id": "3bb3b108-b41c-4fb3-8262-4d9307509fbd",
   "metadata": {},
   "outputs": [],
   "source": []
  }
 ],
 "metadata": {
  "kernelspec": {
   "display_name": "Python 3 (ipykernel)",
   "language": "python",
   "name": "python3"
  },
  "language_info": {
   "codemirror_mode": {
    "name": "ipython",
    "version": 3
   },
   "file_extension": ".py",
   "mimetype": "text/x-python",
   "name": "python",
   "nbconvert_exporter": "python",
   "pygments_lexer": "ipython3",
   "version": "3.12.7"
  }
 },
 "nbformat": 4,
 "nbformat_minor": 5
}
